{
 "cells": [
  {
   "cell_type": "code",
   "execution_count": 34,
   "metadata": {},
   "outputs": [],
   "source": [
    "import pandas as pd\n",
    "from functools import reduce"
   ]
  },
  {
   "cell_type": "code",
   "execution_count": 35,
   "metadata": {},
   "outputs": [],
   "source": [
    "co2=\"Resources/CO2_Emissions_1960-2018.csv\"\n",
    "electricity=\"Resources/Electricity_Production_By_Source.csv\""
   ]
  },
  {
   "cell_type": "code",
   "execution_count": 36,
   "metadata": {},
   "outputs": [],
   "source": [
    "co2db=pd.read_csv(co2)\n",
    "electricitydb=pd.read_csv(electricity)"
   ]
  },
  {
   "cell_type": "code",
   "execution_count": 37,
   "metadata": {},
   "outputs": [],
   "source": [
    "africa_eastern_southern=co2db.loc[co2db['Country Name'] =='Africa Eastern and Southern'][['Country Name', '2000', '2001', '2002', '2003', '2004', '2005', '2006', '2007', '2008', '2009', '2010', '2011', '2012', '2013', '2014', '2015', '2016', '2017', '2018']]\n",
    "africa_western_central=co2db.loc[co2db['Country Name'] =='Africa Western and Central'][['Country Name', '2000', '2001', '2002', '2003', '2004', '2005', '2006', '2007', '2008', '2009', '2010', '2011', '2012', '2013', '2014', '2015', '2016', '2017', '2018']]\n",
    "arab_world=co2db.loc[co2db['Country Name'] =='Arab World'][['Country Name', '2000', '2001', '2002', '2003', '2004', '2005', '2006', '2007', '2008', '2009', '2010', '2011', '2012', '2013', '2014', '2015', '2016', '2017', '2018']]\n",
    "australia=co2db.loc[co2db['Country Name'] =='Australia'][['Country Name', '2000', '2001', '2002', '2003', '2004', '2005', '2006', '2007', '2008', '2009', '2010', '2011', '2012', '2013', '2014', '2015', '2016', '2017', '2018']]\n",
    "central_europe_balkans=co2db.loc[co2db['Country Name'] =='Central Europe and the Baltics'][['Country Name', '2000', '2001', '2002', '2003', '2004', '2005', '2006', '2007', '2008', '2009', '2010', '2011', '2012', '2013', '2014', '2015', '2016', '2017', '2018']]\n",
    "europe_central_asia=co2db.loc[co2db['Country Name'] =='Europe & Central Asia'][['Country Name', '2000', '2001', '2002', '2003', '2004', '2005', '2006', '2007', '2008', '2009', '2010', '2011', '2012', '2013', '2014', '2015', '2016', '2017', '2018']]\n",
    "european_union=co2db.loc[co2db['Country Name'] =='European Union'][['Country Name', '2000', '2001', '2002', '2003', '2004', '2005', '2006', '2007', '2008', '2009', '2010', '2011', '2012', '2013', '2014', '2015', '2016', '2017', '2018']]\n",
    "latin_america_caribbean=co2db.loc[co2db['Country Name'] =='Latin America & Caribbean'][['Country Name', '2000', '2001', '2002', '2003', '2004', '2005', '2006', '2007', '2008', '2009', '2010', '2011', '2012', '2013', '2014', '2015', '2016', '2017', '2018']]\n",
    "me_north_africa=co2db.loc[co2db['Country Name'] =='Middle East & North Africa'][['Country Name', '2000', '2001', '2002', '2003', '2004', '2005', '2006', '2007', '2008', '2009', '2010', '2011', '2012', '2013', '2014', '2015', '2016', '2017', '2018']]\n",
    "north_america=co2db.loc[co2db['Country Name'] =='North America'][['Country Name', '2000', '2001', '2002', '2003', '2004', '2005', '2006', '2007', '2008', '2009', '2010', '2011', '2012', '2013', '2014', '2015', '2016', '2017', '2018']]\n",
    "south_asia=co2db.loc[co2db['Country Name'] =='South Asia'][['Country Name', '2000', '2001', '2002', '2003', '2004', '2005', '2006', '2007', '2008', '2009', '2010', '2011', '2012', '2013', '2014', '2015', '2016', '2017', '2018']]\n",
    "world=co2db.loc[co2db['Country Name'] =='World'][['Country Name', '2000', '2001', '2002', '2003', '2004', '2005', '2006', '2007', '2008', '2009', '2010', '2011', '2012', '2013', '2014', '2015', '2016', '2017', '2018']]"
   ]
  },
  {
   "cell_type": "code",
   "execution_count": 38,
   "metadata": {},
   "outputs": [
    {
     "data": {
      "text/html": [
       "<div>\n",
       "<style scoped>\n",
       "    .dataframe tbody tr th:only-of-type {\n",
       "        vertical-align: middle;\n",
       "    }\n",
       "\n",
       "    .dataframe tbody tr th {\n",
       "        vertical-align: top;\n",
       "    }\n",
       "\n",
       "    .dataframe thead th {\n",
       "        text-align: right;\n",
       "    }\n",
       "</style>\n",
       "<table border=\"1\" class=\"dataframe\">\n",
       "  <thead>\n",
       "    <tr style=\"text-align: right;\">\n",
       "      <th></th>\n",
       "      <th>Country Name</th>\n",
       "      <th>2000</th>\n",
       "      <th>2001</th>\n",
       "      <th>2002</th>\n",
       "      <th>2003</th>\n",
       "      <th>2004</th>\n",
       "      <th>2005</th>\n",
       "      <th>2006</th>\n",
       "      <th>2007</th>\n",
       "      <th>2008</th>\n",
       "      <th>2009</th>\n",
       "      <th>2010</th>\n",
       "      <th>2011</th>\n",
       "      <th>2012</th>\n",
       "      <th>2013</th>\n",
       "      <th>2014</th>\n",
       "      <th>2015</th>\n",
       "      <th>2016</th>\n",
       "      <th>2017</th>\n",
       "      <th>2018</th>\n",
       "    </tr>\n",
       "  </thead>\n",
       "  <tbody>\n",
       "    <tr>\n",
       "      <th>204</th>\n",
       "      <td>South Asia</td>\n",
       "      <td>0.773531</td>\n",
       "      <td>0.773166</td>\n",
       "      <td>0.785738</td>\n",
       "      <td>0.795362</td>\n",
       "      <td>0.839647</td>\n",
       "      <td>0.863838</td>\n",
       "      <td>0.907528</td>\n",
       "      <td>0.9823</td>\n",
       "      <td>1.023285</td>\n",
       "      <td>1.102908</td>\n",
       "      <td>1.149822</td>\n",
       "      <td>1.198544</td>\n",
       "      <td>1.27424</td>\n",
       "      <td>1.291828</td>\n",
       "      <td>1.382922</td>\n",
       "      <td>1.384816</td>\n",
       "      <td>1.399756</td>\n",
       "      <td>1.46285</td>\n",
       "      <td>1.526651</td>\n",
       "    </tr>\n",
       "  </tbody>\n",
       "</table>\n",
       "</div>"
      ],
      "text/plain": [
       "    Country Name      2000      2001      2002      2003      2004      2005  \\\n",
       "204   South Asia  0.773531  0.773166  0.785738  0.795362  0.839647  0.863838   \n",
       "\n",
       "         2006    2007      2008      2009      2010      2011     2012  \\\n",
       "204  0.907528  0.9823  1.023285  1.102908  1.149822  1.198544  1.27424   \n",
       "\n",
       "         2013      2014      2015      2016     2017      2018  \n",
       "204  1.291828  1.382922  1.384816  1.399756  1.46285  1.526651  "
      ]
     },
     "execution_count": 38,
     "metadata": {},
     "output_type": "execute_result"
    }
   ],
   "source": [
    "south_asia.head()"
   ]
  },
  {
   "cell_type": "code",
   "execution_count": 39,
   "metadata": {},
   "outputs": [],
   "source": [
    "electricitydb.rename(columns={'Entity': 'Country Name'}, inplace=True)"
   ]
  },
  {
   "cell_type": "code",
   "execution_count": 40,
   "metadata": {},
   "outputs": [],
   "source": [
    "africa_only=electricitydb.loc[electricitydb['Country Name'] =='Africa']\n",
    "africa_onlyb=africa_only.loc[(africa_only['Year'] > 1999) & (africa_only['Year'] <2019)]\n",
    "#df.loc[(df['hour'] <7) & (df['hour']>10) & (df['hour'] <3) & (df['hour']>6) , 'Rush_hour?'] = 'No' \n",
    "\n",
    "asia_pacific_only=electricitydb.loc[electricitydb['Country Name'] =='Asia Pacific']\n",
    "asia_pacific_onlyb=asia_pacific_only.loc[(asia_pacific_only['Year'] > 1999) & (asia_pacific_only['Year'] <2019)]\n",
    "\n",
    "australia_only=electricitydb.loc[electricitydb['Country Name'] =='Australia']\n",
    "australia_onlyb=australia_only.loc[(australia_only['Year'] > 1999) & (australia_only['Year'] <2019)]\n",
    "\n",
    "cis_only=electricitydb.loc[electricitydb['Country Name'] =='CIS']\n",
    "cis_onlyb=cis_only.loc[(cis_only['Year'] > 1999) & (cis_only['Year'] <2019)]\n",
    "\n",
    "central_america_only=electricitydb.loc[electricitydb['Country Name'] =='Central America']\n",
    "central_america_onlyb=central_america_only.loc[(central_america_only['Year'] > 1999) & (central_america_only['Year'] <2019)]\n",
    "\n",
    "eastern_africa_only=electricitydb.loc[electricitydb['Country Name'] =='Eastern Africa']\n",
    "eastern_africa_onlyb=eastern_africa_only.loc[(eastern_africa_only['Year'] > 1999) & (eastern_africa_only['Year'] <2019)]\n",
    "\n",
    "europe_only=electricitydb.loc[electricitydb['Country Name'] =='Europe']\n",
    "europe_onlyb=europe_only.loc[(europe_only['Year'] > 1999) & (europe_only['Year'] <2019)]\n",
    "\n",
    "middle_east_only=electricitydb.loc[electricitydb['Country Name'] =='Middle East']\n",
    "middle_east_onlyb=middle_east_only.loc[(middle_east_only['Year'] > 1999) & (middle_east_only['Year'] <2019)]\n",
    "\n",
    "north_america_only=electricitydb.loc[electricitydb['Country Name'] =='North America']\n",
    "north_america_onlyb=north_america_only.loc[(north_america_only['Year'] > 1999) & (north_america_only['Year'] <2019)]\n",
    "\n",
    "south_central_america_only=electricitydb.loc[electricitydb['Country Name'] =='South & Central America']\n",
    "south_central_america_onlyb=south_central_america_only.loc[(south_central_america_only['Year'] > 1999) & (south_central_america_only['Year'] <2019)]\n",
    "\n",
    "world_only=electricitydb.loc[electricitydb['Country Name'] =='World']\n",
    "world_onlyb=world_only.loc[(world_only['Year'] > 1999) & (world_only['Year'] <2019)]\n"
   ]
  },
  {
   "cell_type": "code",
   "execution_count": 46,
   "metadata": {},
   "outputs": [],
   "source": [
    "co2_dfs=[africa_eastern_southern, africa_western_central, arab_world, australia, central_europe_balkans, europe_central_asia, european_union, latin_america_caribbean, me_north_africa, north_america, south_asia, world]\n",
    "\n",
    "co2_dfsb=pd.concat(co2_dfs, ignore_index=True,axis=0)"
   ]
  },
  {
   "cell_type": "code",
   "execution_count": 45,
   "metadata": {},
   "outputs": [],
   "source": [
    "electricity_dfs=[africa_onlyb, asia_pacific_onlyb, australia_onlyb, cis_onlyb, central_america_onlyb, eastern_africa_onlyb, europe_onlyb, middle_east_onlyb, north_america_onlyb, south_central_america_onlyb, world_onlyb]\n",
    "electricity_dfsb=pd.concat(electricity_dfs, ignore_index=True,axis=0)"
   ]
  },
  {
   "cell_type": "code",
   "execution_count": 47,
   "metadata": {},
   "outputs": [],
   "source": [
    "#exporting to csv's df.to_csv('out.csv')\n",
    "electricity_dfsb.to_csv(\"Resources/electricity_filtered.csv\")\n",
    "co2_dfsb.to_csv(\"Resources/co2_filtered.csv\")"
   ]
  }
 ],
 "metadata": {
  "kernelspec": {
   "display_name": "Python 3.10.5 64-bit",
   "language": "python",
   "name": "python3"
  },
  "language_info": {
   "codemirror_mode": {
    "name": "ipython",
    "version": 3
   },
   "file_extension": ".py",
   "mimetype": "text/x-python",
   "name": "python",
   "nbconvert_exporter": "python",
   "pygments_lexer": "ipython3",
   "version": "3.10.5"
  },
  "orig_nbformat": 4,
  "vscode": {
   "interpreter": {
    "hash": "44d5e72eeb015fddc86ee8f31aa10ee11647070044e80307ec615e66be4e5f66"
   }
  }
 },
 "nbformat": 4,
 "nbformat_minor": 2
}
